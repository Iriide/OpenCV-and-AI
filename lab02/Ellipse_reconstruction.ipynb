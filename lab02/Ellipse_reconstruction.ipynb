{
 "cells": [
  {
   "cell_type": "code",
   "execution_count": 2,
   "id": "initial_id",
   "metadata": {
    "collapsed": true,
    "ExecuteTime": {
     "end_time": "2024-11-28T17:27:12.869316Z",
     "start_time": "2024-11-28T17:27:10.680878Z"
    }
   },
   "outputs": [],
   "source": [
    "import cv2\n",
    "import keras\n",
    "import numpy as np\n",
    "import random\n",
    "import matplotlib.pyplot as plt\n",
    "from keras.layers import Input, Conv2D, MaxPooling2D, UpSampling2D\n",
    "from keras.models import Model\n",
    "from keras.src.layers import Conv2DTranspose\n",
    "from keras.src.losses import losses\n",
    "import os"
   ]
  },
  {
   "cell_type": "code",
   "outputs": [],
   "source": [
    "def evaluate_segmentation(y_true, y_pred, threshold=0.5):   \n",
    "    # Calculate intersection and union\n",
    "    intersection = np.sum(y_true * y_pred) // 2\n",
    "    sum_y_true = np.sum(y_true)\n",
    "    sum_y_pred = np.sum(y_pred)\n",
    "    \n",
    "    # Dice coefficient with small epsilon to avoid division by zero\n",
    "    dice = (2 * intersection) / (sum_y_true + sum_y_pred + 1e-7)\n",
    "    return dice"
   ],
   "metadata": {
    "collapsed": false,
    "ExecuteTime": {
     "end_time": "2024-11-28T17:27:12.872963Z",
     "start_time": "2024-11-28T17:27:12.869316Z"
    }
   },
   "id": "a5819a616c3790d9",
   "execution_count": 3
  },
  {
   "cell_type": "code",
   "outputs": [],
   "source": [
    "class Ellipse:\n",
    "    def __init__(self, image_size=256, short_axis_min=100, long_axis_min=250, noise_diameter_max=30):\n",
    "        self.image_size = image_size\n",
    "        self.short_axis_min = short_axis_min\n",
    "        self.long_axis_min = long_axis_min\n",
    "        self.noise_diameter_max = noise_diameter_max\n",
    "        \n",
    "        self.ellipse, self.noisy_ellipse = self.generate_ellipse_with_noise()\n",
    "    \n",
    "    def generate_ellipse_with_noise(self):\n",
    "        image = np.zeros((self.image_size, self.image_size), dtype=np.uint8)\n",
    "        \n",
    "        center = (self.image_size // 2, self.image_size // 2)\n",
    "        short_axis = random.randint(self.short_axis_min // 2, self.image_size // 2)\n",
    "        long_axis = min(random.randint(self.long_axis_min, self.image_size), short_axis * 3)\n",
    "        \n",
    "        ellipse_image = cv2.ellipse(image.copy(), center, (long_axis, short_axis), 0, 0, 360, 1, -1)\n",
    "        \n",
    "        noisy_image = self.add_noise(ellipse_image)\n",
    "        \n",
    "        return ellipse_image, noisy_image\n",
    "    \n",
    "    def add_noise(self, image):\n",
    "        noisy_image = image.copy()\n",
    "        \n",
    "        num_noises = random.randint(5, 15)\n",
    "        \n",
    "        for _ in range(num_noises):\n",
    "            x = random.randint(0, self.image_size - 1)\n",
    "            y = random.randint(0, self.image_size - 1)\n",
    "            diameter = random.randint(5, self.noise_diameter_max)\n",
    "            \n",
    "            cv2.circle(noisy_image, (x, y), diameter // 2, 0, -1)\n",
    "            \n",
    "        return noisy_image"
   ],
   "metadata": {
    "collapsed": false,
    "ExecuteTime": {
     "end_time": "2024-11-28T17:27:12.879639Z",
     "start_time": "2024-11-28T17:27:12.873966Z"
    }
   },
   "id": "260c12ee80054db1",
   "execution_count": 4
  },
  {
   "cell_type": "code",
   "outputs": [
    {
     "data": {
      "text/plain": "<Figure size 1000x500 with 2 Axes>",
      "image/png": "[encoded data removed]"
     },
     "metadata": {},
     "output_type": "display_data"
    }
   ],
   "source": [
    "ellipse = Ellipse()\n",
    "\n",
    "# Wyświetlanie obrazów oryginalnego i zaszumionego\n",
    "plt.figure(figsize=(10, 5))\n",
    "plt.subplot(1, 2, 1)\n",
    "plt.title(\"Oryginalna elipsa\")\n",
    "plt.imshow(ellipse.ellipse, cmap='gray')\n",
    "plt.subplot(1, 2, 2)\n",
    "plt.title(\"Elipsa z zaszumieniem\")\n",
    "plt.imshow(ellipse.noisy_ellipse, cmap='gray')\n",
    "plt.show()"
   ],
   "metadata": {
    "collapsed": false,
    "ExecuteTime": {
     "end_time": "2024-11-28T17:27:13.000831Z",
     "start_time": "2024-11-28T17:27:12.880643Z"
    }
   },
   "id": "eee86be21cd80b5b",
   "execution_count": 5
  },
  {
   "cell_type": "code",
   "outputs": [],
   "source": [
    "class EllipseDataset:\n",
    "    def __init__(self, num_samples=1000):\n",
    "        self.num_samples = num_samples\n",
    "        self.ellipses = [Ellipse().ellipse for _ in range(num_samples)]\n",
    "        self.noisy_ellipses = [Ellipse().noisy_ellipse for _ in range(num_samples)]\n",
    "            \n",
    "    def __len__(self):\n",
    "        return self.num_samples\n",
    "    \n",
    "    def __getitem__(self, idx):\n",
    "        return self.ellipses[idx]\n",
    "    \n",
    "    def save_to_bmp(self, path):\n",
    "        # Create the directories if they don't exist\n",
    "        ellipse_dir = os.path.join(path, \"ellipses\")\n",
    "        noisy_ellipse_dir = os.path.join(path, \"noisy_ellipses\")\n",
    "        \n",
    "        os.makedirs(ellipse_dir, exist_ok=True)\n",
    "        os.makedirs(noisy_ellipse_dir, exist_ok=True)\n",
    "        \n",
    "        # Save ellipses\n",
    "        for i, ellipse in enumerate(self.ellipses):\n",
    "            cv2.imwrite(os.path.join(ellipse_dir, f\"ellipse_{i}.bmp\"), ellipse)\n",
    "            \n",
    "        # Save noisy ellipses\n",
    "        for i, noisy_ellipse in enumerate(self.noisy_ellipses):\n",
    "            cv2.imwrite(os.path.join(noisy_ellipse_dir, f\"noisy_ellipse_{i}.bmp\"), noisy_ellipse)"
   ],
   "metadata": {
    "collapsed": false,
    "ExecuteTime": {
     "end_time": "2024-11-28T17:27:13.068459Z",
     "start_time": "2024-11-28T17:27:13.001837Z"
    }
   },
   "id": "99324fa2e2200b9a",
   "execution_count": 6
  },
  {
   "cell_type": "code",
   "outputs": [
    {
     "data": {
      "text/plain": "\u001B[1mModel: \"autoencoder\"\u001B[0m\n",
      "text/html": "<pre style=\"white-space:pre;overflow-x:auto;line-height:normal;font-family:Menlo,'DejaVu Sans Mono',consolas,'Courier New',monospace\"><span style=\"font-weight: bold\">Model: \"autoencoder\"</span>\n</pre>\n"
     },
     "metadata": {},
     "output_type": "display_data"
    },
    {
     "data": {
      "text/plain": "┏━━━━━━━━━━━━━━━━━━━━━━━━━━━━━━━━━┳━━━━━━━━━━━━━━━━━━━━━━━━┳━━━━━━━━━━━━━━━┓\n┃\u001B[1m \u001B[0m\u001B[1mLayer (type)                   \u001B[0m\u001B[1m \u001B[0m┃\u001B[1m \u001B[0m\u001B[1mOutput Shape          \u001B[0m\u001B[1m \u001B[0m┃\u001B[1m \u001B[0m\u001B[1m      Param #\u001B[0m\u001B[1m \u001B[0m┃\n┡━━━━━━━━━━━━━━━━━━━━━━━━━━━━━━━━━╇━━━━━━━━━━━━━━━━━━━━━━━━╇━━━━━━━━━━━━━━━┩\n│ sequential (\u001B[38;5;33mSequential\u001B[0m)         │ (\u001B[38;5;45mNone\u001B[0m, \u001B[38;5;34m64\u001B[0m, \u001B[38;5;34m64\u001B[0m, \u001B[38;5;34m32\u001B[0m)     │       \u001B[38;5;34m105,760\u001B[0m │\n├─────────────────────────────────┼────────────────────────┼───────────────┤\n│ sequential_1 (\u001B[38;5;33mSequential\u001B[0m)       │ ?                      │   \u001B[38;5;34m0\u001B[0m (unbuilt) │\n└─────────────────────────────────┴────────────────────────┴───────────────┘\n",
      "text/html": "<pre style=\"white-space:pre;overflow-x:auto;line-height:normal;font-family:Menlo,'DejaVu Sans Mono',consolas,'Courier New',monospace\">┏━━━━━━━━━━━━━━━━━━━━━━━━━━━━━━━━━┳━━━━━━━━━━━━━━━━━━━━━━━━┳━━━━━━━━━━━━━━━┓\n┃<span style=\"font-weight: bold\"> Layer (type)                    </span>┃<span style=\"font-weight: bold\"> Output Shape           </span>┃<span style=\"font-weight: bold\">       Param # </span>┃\n┡━━━━━━━━━━━━━━━━━━━━━━━━━━━━━━━━━╇━━━━━━━━━━━━━━━━━━━━━━━━╇━━━━━━━━━━━━━━━┩\n│ sequential (<span style=\"color: #0087ff; text-decoration-color: #0087ff\">Sequential</span>)         │ (<span style=\"color: #00d7ff; text-decoration-color: #00d7ff\">None</span>, <span style=\"color: #00af00; text-decoration-color: #00af00\">64</span>, <span style=\"color: #00af00; text-decoration-color: #00af00\">64</span>, <span style=\"color: #00af00; text-decoration-color: #00af00\">32</span>)     │       <span style=\"color: #00af00; text-decoration-color: #00af00\">105,760</span> │\n├─────────────────────────────────┼────────────────────────┼───────────────┤\n│ sequential_1 (<span style=\"color: #0087ff; text-decoration-color: #0087ff\">Sequential</span>)       │ ?                      │   <span style=\"color: #00af00; text-decoration-color: #00af00\">0</span> (unbuilt) │\n└─────────────────────────────────┴────────────────────────┴───────────────┘\n</pre>\n"
     },
     "metadata": {},
     "output_type": "display_data"
    },
    {
     "data": {
      "text/plain": "\u001B[1m Total params: \u001B[0m\u001B[38;5;34m105,760\u001B[0m (413.12 KB)\n",
      "text/html": "<pre style=\"white-space:pre;overflow-x:auto;line-height:normal;font-family:Menlo,'DejaVu Sans Mono',consolas,'Courier New',monospace\"><span style=\"font-weight: bold\"> Total params: </span><span style=\"color: #00af00; text-decoration-color: #00af00\">105,760</span> (413.12 KB)\n</pre>\n"
     },
     "metadata": {},
     "output_type": "display_data"
    },
    {
     "data": {
      "text/plain": "\u001B[1m Trainable params: \u001B[0m\u001B[38;5;34m105,760\u001B[0m (413.12 KB)\n",
      "text/html": "<pre style=\"white-space:pre;overflow-x:auto;line-height:normal;font-family:Menlo,'DejaVu Sans Mono',consolas,'Courier New',monospace\"><span style=\"font-weight: bold\"> Trainable params: </span><span style=\"color: #00af00; text-decoration-color: #00af00\">105,760</span> (413.12 KB)\n</pre>\n"
     },
     "metadata": {},
     "output_type": "display_data"
    },
    {
     "data": {
      "text/plain": "\u001B[1m Non-trainable params: \u001B[0m\u001B[38;5;34m0\u001B[0m (0.00 B)\n",
      "text/html": "<pre style=\"white-space:pre;overflow-x:auto;line-height:normal;font-family:Menlo,'DejaVu Sans Mono',consolas,'Courier New',monospace\"><span style=\"font-weight: bold\"> Non-trainable params: </span><span style=\"color: #00af00; text-decoration-color: #00af00\">0</span> (0.00 B)\n</pre>\n"
     },
     "metadata": {},
     "output_type": "display_data"
    }
   ],
   "source": [
    "dataset = EllipseDataset(1000)\n",
    "\n",
    "@keras.saving.register_keras_serializable()\n",
    "class Autoencoder(Model):\n",
    "    def __init__(self, input_shape=(256, 256, 1)):\n",
    "        self.input_shape_ = input_shape\n",
    "        super(Autoencoder, self).__init__()\n",
    "        # Encoder\n",
    "        self.input_img = Input(shape=input_shape)\n",
    "        self.encoder = keras.Sequential([\n",
    "            Input(shape=input_shape),\n",
    "            Conv2D(128, (5, 5), activation='relu', padding='same'),\n",
    "            MaxPooling2D((2, 2), padding='same'),\n",
    "            Conv2D(32, (5, 5), activation='relu', padding='same'),\n",
    "            MaxPooling2D((2, 2), padding='same')\n",
    "        ])\n",
    "    \n",
    "        # Decoder\n",
    "        self.decoder = keras.Sequential([\n",
    "            Conv2DTranspose(32, (5, 5), activation='relu', padding='same'),\n",
    "            UpSampling2D((2, 2)),\n",
    "            Conv2DTranspose(128, (5, 5), activation='relu', padding='same'),\n",
    "            UpSampling2D((2, 2)),\n",
    "            Conv2D(1, (3, 3), activation='sigmoid', padding='same')\n",
    "        ])\n",
    "    \n",
    "    def call(self, x):\n",
    "        encoded = self.encoder(x)\n",
    "        decoded = self.decoder(encoded)\n",
    "        return decoded\n",
    "    def get_config(self):\n",
    "        # Configuration dictionary for saving the model\n",
    "        return {\"input_shape\": self.input_shape_}\n",
    "\n",
    "    @classmethod\n",
    "    def from_config(cls, config):\n",
    "        # Reconstruct the model from its configuration\n",
    "        return cls(**config)\n",
    "\n",
    "autoencoder = Autoencoder()\n",
    "\n",
    "optimizer = keras.optimizers.Adam(learning_rate=0.0005)\n",
    "autoencoder.compile(optimizer=optimizer, loss=losses.MeanSquaredError(), metrics=[keras.metrics.MeanSquaredError()])\n",
    "\n",
    "autoencoder.summary()"
   ],
   "metadata": {
    "collapsed": false,
    "ExecuteTime": {
     "end_time": "2024-11-28T17:27:13.188969Z",
     "start_time": "2024-11-28T17:27:13.068459Z"
    }
   },
   "id": "2c8490751a7c0aa8",
   "execution_count": 7
  },
  {
   "cell_type": "markdown",
   "source": [
    "# --- Run all above before testing ---\n"
   ],
   "metadata": {
    "collapsed": false
   },
   "id": "c9dce1b61b3244b2"
  },
  {
   "cell_type": "code",
   "outputs": [
    {
     "name": "stdout",
     "output_type": "stream",
     "text": [
      "Epoch 1/100\n",
      "\u001B[1m13/13\u001B[0m \u001B[32m━━━━━━━━━━━━━━━━━━━━\u001B[0m\u001B[37m\u001B[0m \u001B[1m34s\u001B[0m 3s/step - loss: 0.2090 - mean_squared_error: 0.2090 - val_loss: 0.1747 - val_mean_squared_error: 0.1747\n",
      "Epoch 2/100\n",
      "\u001B[1m13/13\u001B[0m \u001B[32m━━━━━━━━━━━━━━━━━━━━\u001B[0m\u001B[37m\u001B[0m \u001B[1m53s\u001B[0m 4s/step - loss: 0.1701 - mean_squared_error: 0.1701 - val_loss: 0.1693 - val_mean_squared_error: 0.1693\n",
      "Epoch 3/100\n",
      "\u001B[1m13/13\u001B[0m \u001B[32m━━━━━━━━━━━━━━━━━━━━\u001B[0m\u001B[37m\u001B[0m \u001B[1m52s\u001B[0m 4s/step - loss: 0.1646 - mean_squared_error: 0.1646 - val_loss: 0.1597 - val_mean_squared_error: 0.1597\n",
      "Epoch 4/100\n",
      "\u001B[1m13/13\u001B[0m \u001B[32m━━━━━━━━━━━━━━━━━━━━\u001B[0m\u001B[37m\u001B[0m \u001B[1m52s\u001B[0m 4s/step - loss: 0.1501 - mean_squared_error: 0.1501 - val_loss: 0.1545 - val_mean_squared_error: 0.1545\n",
      "Epoch 5/100\n",
      "\u001B[1m13/13\u001B[0m \u001B[32m━━━━━━━━━━━━━━━━━━━━\u001B[0m\u001B[37m\u001B[0m \u001B[1m52s\u001B[0m 4s/step - loss: 0.1456 - mean_squared_error: 0.1456 - val_loss: 0.1575 - val_mean_squared_error: 0.1575\n",
      "Epoch 6/100\n",
      "\u001B[1m13/13\u001B[0m \u001B[32m━━━━━━━━━━━━━━━━━━━━\u001B[0m\u001B[37m\u001B[0m \u001B[1m52s\u001B[0m 4s/step - loss: 0.1454 - mean_squared_error: 0.1454 - val_loss: 0.1510 - val_mean_squared_error: 0.1510\n",
      "Epoch 7/100\n",
      "\u001B[1m13/13\u001B[0m \u001B[32m━━━━━━━━━━━━━━━━━━━━\u001B[0m\u001B[37m\u001B[0m \u001B[1m52s\u001B[0m 4s/step - loss: 0.1440 - mean_squared_error: 0.1440 - val_loss: 0.1534 - val_mean_squared_error: 0.1534\n",
      "Epoch 8/100\n",
      "\u001B[1m13/13\u001B[0m \u001B[32m━━━━━━━━━━━━━━━━━━━━\u001B[0m\u001B[37m\u001B[0m \u001B[1m82s\u001B[0m 4s/step - loss: 0.1443 - mean_squared_error: 0.1443 - val_loss: 0.1497 - val_mean_squared_error: 0.1497\n",
      "Epoch 9/100\n",
      "\u001B[1m13/13\u001B[0m \u001B[32m━━━━━━━━━━━━━━━━━━━━\u001B[0m\u001B[37m\u001B[0m \u001B[1m83s\u001B[0m 4s/step - loss: 0.1407 - mean_squared_error: 0.1407 - val_loss: 0.1439 - val_mean_squared_error: 0.1439\n",
      "Epoch 10/100\n",
      "\u001B[1m13/13\u001B[0m \u001B[32m━━━━━━━━━━━━━━━━━━━━\u001B[0m\u001B[37m\u001B[0m \u001B[1m52s\u001B[0m 4s/step - loss: 0.1419 - mean_squared_error: 0.1419 - val_loss: 0.1450 - val_mean_squared_error: 0.1450\n",
      "Epoch 11/100\n",
      "\u001B[1m13/13\u001B[0m \u001B[32m━━━━━━━━━━━━━━━━━━━━\u001B[0m\u001B[37m\u001B[0m \u001B[1m83s\u001B[0m 4s/step - loss: 0.1376 - mean_squared_error: 0.1376 - val_loss: 0.1442 - val_mean_squared_error: 0.1442\n",
      "Epoch 12/100\n",
      "\u001B[1m13/13\u001B[0m \u001B[32m━━━━━━━━━━━━━━━━━━━━\u001B[0m\u001B[37m\u001B[0m \u001B[1m52s\u001B[0m 4s/step - loss: 0.1340 - mean_squared_error: 0.1340 - val_loss: 0.1432 - val_mean_squared_error: 0.1432\n",
      "Epoch 13/100\n",
      "\u001B[1m13/13\u001B[0m \u001B[32m━━━━━━━━━━━━━━━━━━━━\u001B[0m\u001B[37m\u001B[0m \u001B[1m83s\u001B[0m 4s/step - loss: 0.1365 - mean_squared_error: 0.1365 - val_loss: 0.1403 - val_mean_squared_error: 0.1403\n",
      "Epoch 14/100\n",
      "\u001B[1m13/13\u001B[0m \u001B[32m━━━━━━━━━━━━━━━━━━━━\u001B[0m\u001B[37m\u001B[0m \u001B[1m52s\u001B[0m 4s/step - loss: 0.1346 - mean_squared_error: 0.1346 - val_loss: 0.1410 - val_mean_squared_error: 0.1410\n",
      "Epoch 15/100\n",
      "\u001B[1m13/13\u001B[0m \u001B[32m━━━━━━━━━━━━━━━━━━━━\u001B[0m\u001B[37m\u001B[0m \u001B[1m52s\u001B[0m 4s/step - loss: 0.1309 - mean_squared_error: 0.1309 - val_loss: 0.1408 - val_mean_squared_error: 0.1408\n",
      "Epoch 16/100\n",
      "\u001B[1m13/13\u001B[0m \u001B[32m━━━━━━━━━━━━━━━━━━━━\u001B[0m\u001B[37m\u001B[0m \u001B[1m52s\u001B[0m 4s/step - loss: 0.1340 - mean_squared_error: 0.1340 - val_loss: 0.1392 - val_mean_squared_error: 0.1392\n",
      "Epoch 17/100\n",
      "\u001B[1m13/13\u001B[0m \u001B[32m━━━━━━━━━━━━━━━━━━━━\u001B[0m\u001B[37m\u001B[0m \u001B[1m52s\u001B[0m 4s/step - loss: 0.1283 - mean_squared_error: 0.1283 - val_loss: 0.1399 - val_mean_squared_error: 0.1399\n",
      "Epoch 18/100\n",
      "\u001B[1m13/13\u001B[0m \u001B[32m━━━━━━━━━━━━━━━━━━━━\u001B[0m\u001B[37m\u001B[0m \u001B[1m52s\u001B[0m 4s/step - loss: 0.1352 - mean_squared_error: 0.1352 - val_loss: 0.1384 - val_mean_squared_error: 0.1384\n",
      "Epoch 19/100\n",
      "\u001B[1m13/13\u001B[0m \u001B[32m━━━━━━━━━━━━━━━━━━━━\u001B[0m\u001B[37m\u001B[0m \u001B[1m52s\u001B[0m 4s/step - loss: 0.1324 - mean_squared_error: 0.1324 - val_loss: 0.1386 - val_mean_squared_error: 0.1386\n",
      "Epoch 20/100\n",
      "\u001B[1m13/13\u001B[0m \u001B[32m━━━━━━━━━━━━━━━━━━━━\u001B[0m\u001B[37m\u001B[0m \u001B[1m83s\u001B[0m 4s/step - loss: 0.1287 - mean_squared_error: 0.1287 - val_loss: 0.1381 - val_mean_squared_error: 0.1381\n",
      "Epoch 21/100\n",
      "\u001B[1m13/13\u001B[0m \u001B[32m━━━━━━━━━━━━━━━━━━━━\u001B[0m\u001B[37m\u001B[0m \u001B[1m52s\u001B[0m 4s/step - loss: 0.1327 - mean_squared_error: 0.1327 - val_loss: 0.1392 - val_mean_squared_error: 0.1392\n",
      "Epoch 22/100\n",
      "\u001B[1m13/13\u001B[0m \u001B[32m━━━━━━━━━━━━━━━━━━━━\u001B[0m\u001B[37m\u001B[0m \u001B[1m82s\u001B[0m 4s/step - loss: 0.1339 - mean_squared_error: 0.1339 - val_loss: 0.1407 - val_mean_squared_error: 0.1407\n",
      "Epoch 23/100\n",
      "\u001B[1m13/13\u001B[0m \u001B[32m━━━━━━━━━━━━━━━━━━━━\u001B[0m\u001B[37m\u001B[0m \u001B[1m52s\u001B[0m 4s/step - loss: 0.1305 - mean_squared_error: 0.1305 - val_loss: 0.1404 - val_mean_squared_error: 0.1404\n",
      "Epoch 24/100\n",
      "\u001B[1m13/13\u001B[0m \u001B[32m━━━━━━━━━━━━━━━━━━━━\u001B[0m\u001B[37m\u001B[0m \u001B[1m52s\u001B[0m 4s/step - loss: 0.1334 - mean_squared_error: 0.1334 - val_loss: 0.1377 - val_mean_squared_error: 0.1377\n",
      "Epoch 25/100\n",
      "\u001B[1m13/13\u001B[0m \u001B[32m━━━━━━━━━━━━━━━━━━━━\u001B[0m\u001B[37m\u001B[0m \u001B[1m52s\u001B[0m 4s/step - loss: 0.1307 - mean_squared_error: 0.1307 - val_loss: 0.1378 - val_mean_squared_error: 0.1378\n",
      "Epoch 26/100\n",
      "\u001B[1m13/13\u001B[0m \u001B[32m━━━━━━━━━━━━━━━━━━━━\u001B[0m\u001B[37m\u001B[0m \u001B[1m52s\u001B[0m 4s/step - loss: 0.1346 - mean_squared_error: 0.1346 - val_loss: 0.1401 - val_mean_squared_error: 0.1401\n",
      "Epoch 27/100\n",
      "\u001B[1m13/13\u001B[0m \u001B[32m━━━━━━━━━━━━━━━━━━━━\u001B[0m\u001B[37m\u001B[0m \u001B[1m83s\u001B[0m 4s/step - loss: 0.1299 - mean_squared_error: 0.1299 - val_loss: 0.1370 - val_mean_squared_error: 0.1370\n",
      "Epoch 28/100\n",
      "\u001B[1m13/13\u001B[0m \u001B[32m━━━━━━━━━━━━━━━━━━━━\u001B[0m\u001B[37m\u001B[0m \u001B[1m52s\u001B[0m 4s/step - loss: 0.1371 - mean_squared_error: 0.1371 - val_loss: 0.1405 - val_mean_squared_error: 0.1405\n",
      "Epoch 29/100\n",
      "\u001B[1m13/13\u001B[0m \u001B[32m━━━━━━━━━━━━━━━━━━━━\u001B[0m\u001B[37m\u001B[0m \u001B[1m52s\u001B[0m 4s/step - loss: 0.1319 - mean_squared_error: 0.1319 - val_loss: 0.1375 - val_mean_squared_error: 0.1375\n",
      "Epoch 30/100\n",
      "\u001B[1m13/13\u001B[0m \u001B[32m━━━━━━━━━━━━━━━━━━━━\u001B[0m\u001B[37m\u001B[0m \u001B[1m83s\u001B[0m 4s/step - loss: 0.1282 - mean_squared_error: 0.1282 - val_loss: 0.1397 - val_mean_squared_error: 0.1397\n",
      "Epoch 31/100\n",
      "\u001B[1m13/13\u001B[0m \u001B[32m━━━━━━━━━━━━━━━━━━━━\u001B[0m\u001B[37m\u001B[0m \u001B[1m76s\u001B[0m 4s/step - loss: 0.1302 - mean_squared_error: 0.1302 - val_loss: 0.1383 - val_mean_squared_error: 0.1383\n",
      "Epoch 32/100\n",
      "\u001B[1m13/13\u001B[0m \u001B[32m━━━━━━━━━━━━━━━━━━━━\u001B[0m\u001B[37m\u001B[0m \u001B[1m45s\u001B[0m 3s/step - loss: 0.1355 - mean_squared_error: 0.1355 - val_loss: 0.1371 - val_mean_squared_error: 0.1371\n",
      "Epoch 33/100\n",
      "\u001B[1m13/13\u001B[0m \u001B[32m━━━━━━━━━━━━━━━━━━━━\u001B[0m\u001B[37m\u001B[0m \u001B[1m52s\u001B[0m 4s/step - loss: 0.1317 - mean_squared_error: 0.1317 - val_loss: 0.1372 - val_mean_squared_error: 0.1372\n",
      "Epoch 34/100\n",
      "\u001B[1m13/13\u001B[0m \u001B[32m━━━━━━━━━━━━━━━━━━━━\u001B[0m\u001B[37m\u001B[0m \u001B[1m82s\u001B[0m 4s/step - loss: 0.1304 - mean_squared_error: 0.1304 - val_loss: 0.1368 - val_mean_squared_error: 0.1368\n",
      "Epoch 35/100\n",
      "\u001B[1m13/13\u001B[0m \u001B[32m━━━━━━━━━━━━━━━━━━━━\u001B[0m\u001B[37m\u001B[0m \u001B[1m52s\u001B[0m 4s/step - loss: 0.1304 - mean_squared_error: 0.1304 - val_loss: 0.1380 - val_mean_squared_error: 0.1380\n",
      "Epoch 36/100\n",
      "\u001B[1m13/13\u001B[0m \u001B[32m━━━━━━━━━━━━━━━━━━━━\u001B[0m\u001B[37m\u001B[0m \u001B[1m52s\u001B[0m 4s/step - loss: 0.1348 - mean_squared_error: 0.1348 - val_loss: 0.1384 - val_mean_squared_error: 0.1384\n",
      "Epoch 37/100\n",
      "\u001B[1m13/13\u001B[0m \u001B[32m━━━━━━━━━━━━━━━━━━━━\u001B[0m\u001B[37m\u001B[0m \u001B[1m52s\u001B[0m 4s/step - loss: 0.1324 - mean_squared_error: 0.1324 - val_loss: 0.1386 - val_mean_squared_error: 0.1386\n",
      "Epoch 38/100\n",
      "\u001B[1m13/13\u001B[0m \u001B[32m━━━━━━━━━━━━━━━━━━━━\u001B[0m\u001B[37m\u001B[0m \u001B[1m23s\u001B[0m 2s/step - loss: 0.1378 - mean_squared_error: 0.1378 - val_loss: 0.1379 - val_mean_squared_error: 0.1379\n",
      "Epoch 39/100\n",
      "\u001B[1m13/13\u001B[0m \u001B[32m━━━━━━━━━━━━━━━━━━━━\u001B[0m\u001B[37m\u001B[0m \u001B[1m23s\u001B[0m 2s/step - loss: 0.1329 - mean_squared_error: 0.1329 - val_loss: 0.1367 - val_mean_squared_error: 0.1367\n",
      "Epoch 40/100\n",
      "\u001B[1m13/13\u001B[0m \u001B[32m━━━━━━━━━━━━━━━━━━━━\u001B[0m\u001B[37m\u001B[0m \u001B[1m23s\u001B[0m 2s/step - loss: 0.1328 - mean_squared_error: 0.1328 - val_loss: 0.1376 - val_mean_squared_error: 0.1376\n",
      "Epoch 41/100\n",
      "\u001B[1m13/13\u001B[0m \u001B[32m━━━━━━━━━━━━━━━━━━━━\u001B[0m\u001B[37m\u001B[0m \u001B[1m23s\u001B[0m 2s/step - loss: 0.1306 - mean_squared_error: 0.1306 - val_loss: 0.1360 - val_mean_squared_error: 0.1360\n",
      "Epoch 42/100\n",
      "\u001B[1m13/13\u001B[0m \u001B[32m━━━━━━━━━━━━━━━━━━━━\u001B[0m\u001B[37m\u001B[0m \u001B[1m23s\u001B[0m 2s/step - loss: 0.1319 - mean_squared_error: 0.1319 - val_loss: 0.1363 - val_mean_squared_error: 0.1363\n",
      "Epoch 43/100\n",
      "\u001B[1m13/13\u001B[0m \u001B[32m━━━━━━━━━━━━━━━━━━━━\u001B[0m\u001B[37m\u001B[0m \u001B[1m23s\u001B[0m 2s/step - loss: 0.1315 - mean_squared_error: 0.1315 - val_loss: 0.1357 - val_mean_squared_error: 0.1357\n",
      "Epoch 44/100\n",
      "\u001B[1m13/13\u001B[0m \u001B[32m━━━━━━━━━━━━━━━━━━━━\u001B[0m\u001B[37m\u001B[0m \u001B[1m23s\u001B[0m 2s/step - loss: 0.1297 - mean_squared_error: 0.1297 - val_loss: 0.1353 - val_mean_squared_error: 0.1353\n",
      "Epoch 45/100\n",
      "\u001B[1m13/13\u001B[0m \u001B[32m━━━━━━━━━━━━━━━━━━━━\u001B[0m\u001B[37m\u001B[0m \u001B[1m23s\u001B[0m 2s/step - loss: 0.1318 - mean_squared_error: 0.1318 - val_loss: 0.1363 - val_mean_squared_error: 0.1363\n",
      "Epoch 46/100\n",
      "\u001B[1m13/13\u001B[0m \u001B[32m━━━━━━━━━━━━━━━━━━━━\u001B[0m\u001B[37m\u001B[0m \u001B[1m23s\u001B[0m 2s/step - loss: 0.1292 - mean_squared_error: 0.1292 - val_loss: 0.1353 - val_mean_squared_error: 0.1353\n",
      "Epoch 47/100\n",
      "\u001B[1m13/13\u001B[0m \u001B[32m━━━━━━━━━━━━━━━━━━━━\u001B[0m\u001B[37m\u001B[0m \u001B[1m23s\u001B[0m 2s/step - loss: 0.1330 - mean_squared_error: 0.1330 - val_loss: 0.1360 - val_mean_squared_error: 0.1360\n",
      "Epoch 48/100\n",
      "\u001B[1m13/13\u001B[0m \u001B[32m━━━━━━━━━━━━━━━━━━━━\u001B[0m\u001B[37m\u001B[0m \u001B[1m23s\u001B[0m 2s/step - loss: 0.1276 - mean_squared_error: 0.1276 - val_loss: 0.1351 - val_mean_squared_error: 0.1351\n",
      "Epoch 49/100\n",
      "\u001B[1m13/13\u001B[0m \u001B[32m━━━━━━━━━━━━━━━━━━━━\u001B[0m\u001B[37m\u001B[0m \u001B[1m23s\u001B[0m 2s/step - loss: 0.1303 - mean_squared_error: 0.1303 - val_loss: 0.1356 - val_mean_squared_error: 0.1356\n",
      "Epoch 50/100\n",
      "\u001B[1m13/13\u001B[0m \u001B[32m━━━━━━━━━━━━━━━━━━━━\u001B[0m\u001B[37m\u001B[0m \u001B[1m23s\u001B[0m 2s/step - loss: 0.1310 - mean_squared_error: 0.1310 - val_loss: 0.1358 - val_mean_squared_error: 0.1358\n",
      "Epoch 51/100\n",
      "\u001B[1m13/13\u001B[0m \u001B[32m━━━━━━━━━━━━━━━━━━━━\u001B[0m\u001B[37m\u001B[0m \u001B[1m23s\u001B[0m 2s/step - loss: 0.1335 - mean_squared_error: 0.1335 - val_loss: 0.1372 - val_mean_squared_error: 0.1372\n",
      "Epoch 52/100\n",
      "\u001B[1m13/13\u001B[0m \u001B[32m━━━━━━━━━━━━━━━━━━━━\u001B[0m\u001B[37m\u001B[0m \u001B[1m23s\u001B[0m 2s/step - loss: 0.1333 - mean_squared_error: 0.1333 - val_loss: 0.1386 - val_mean_squared_error: 0.1386\n"
     ]
    }
   ],
   "source": [
    "callbacks = [\n",
    "    keras.callbacks.ModelCheckpoint(filepath=\"checkpoints/model_at_epoch_{epoch}.keras\", save_best_only=True, save_weights_only=False),\n",
    "    #ReduceLROnPlateau(monitor='val_loss', factor=0.2, patience=5, min_lr=0.0001),\n",
    "    keras.callbacks.EarlyStopping(monitor=\"mean_squared_error\", patience=5, mode=\"min\", restore_best_weights=True)\n",
    "]\n",
    "\n",
    "history = autoencoder.fit(x= np.array(dataset.noisy_ellipses).reshape(-1, 256, 256, 1), y= np.array(dataset.ellipses).reshape(-1, 256, 256, 1), epochs=100, batch_size=64, callbacks=callbacks, validation_split=0.2)"
   ],
   "metadata": {
    "collapsed": false,
    "ExecuteTime": {
     "end_time": "2024-11-28T07:33:25.619181Z",
     "start_time": "2024-11-28T06:50:57.894891Z"
    }
   },
   "id": "319a7e452a5ae0bb",
   "execution_count": 6
  },
  {
   "cell_type": "code",
   "outputs": [
    {
     "data": {
      "text/plain": "<Figure size 640x480 with 1 Axes>",
      "image/png": "[encoded data removed]"
     },
     "metadata": {},
     "output_type": "display_data"
    }
   ],
   "source": [
    "#save model\n",
    "autoencoder.save_weights(\"autoencoder_weights.weights.h5\")\n",
    "\n",
    "\n",
    "plt.plot(history.history['loss'])\n",
    "plt.title('Funkcja straty')\n",
    "plt.ylabel('Strata')\n",
    "plt.xlabel('Epoka')\n",
    "plt.show()"
   ],
   "metadata": {
    "collapsed": false,
    "ExecuteTime": {
     "end_time": "2024-11-28T07:33:25.711242Z",
     "start_time": "2024-11-28T07:33:25.621185Z"
    }
   },
   "id": "e7c21469c2e552cc",
   "execution_count": 7
  },
  {
   "cell_type": "code",
   "outputs": [
    {
     "name": "stdout",
     "output_type": "stream",
     "text": [
      "\u001B[1m1/1\u001B[0m \u001B[32m━━━━━━━━━━━━━━━━━━━━\u001B[0m\u001B[37m\u001B[0m \u001B[1m0s\u001B[0m 48ms/step\n",
      "\u001B[1m1/1\u001B[0m \u001B[32m━━━━━━━━━━━━━━━━━━━━\u001B[0m\u001B[37m\u001B[0m \u001B[1m0s\u001B[0m 47ms/step\n",
      "\u001B[1m1/1\u001B[0m \u001B[32m━━━━━━━━━━━━━━━━━━━━\u001B[0m\u001B[37m\u001B[0m \u001B[1m0s\u001B[0m 48ms/step\n",
      "\u001B[1m1/1\u001B[0m \u001B[32m━━━━━━━━━━━━━━━━━━━━\u001B[0m\u001B[37m\u001B[0m \u001B[1m0s\u001B[0m 51ms/step\n",
      "\u001B[1m1/1\u001B[0m \u001B[32m━━━━━━━━━━━━━━━━━━━━\u001B[0m\u001B[37m\u001B[0m \u001B[1m0s\u001B[0m 47ms/step\n"
     ]
    },
    {
     "data": {
      "text/plain": "<Figure size 2000x500 with 10 Axes>",
      "image/png": "[encoded data removed]"
     },
     "metadata": {},
     "output_type": "display_data"
    }
   ],
   "source": [
    "def plot_results(images, title, n_images=5):\n",
    "    plt.figure(figsize=(20, 5))\n",
    "    plt.suptitle(title, fontsize=16)\n",
    "    \n",
    "    for i in range(n_images):\n",
    "        # Display original images\n",
    "        ax = plt.subplot(2, n_images, i + 1)\n",
    "        plt.imshow(images[i], cmap='gray')\n",
    "        ax.set_title(f\"Original image {i + 1}\")\n",
    "        ax.get_xaxis().set_visible(False)\n",
    "        ax.get_yaxis().set_visible(False)\n",
    "        \n",
    "    for i in range(n_images):\n",
    "        # Display reconstructed images\n",
    "        ax = plt.subplot(2, n_images, i + 1 + n_images)\n",
    "        image = autoencoder_.predict(images[i].reshape(1, 256, 256, 1)).reshape(256, 256)\n",
    "        image = cv2.normalize(image, None, 0, 255, cv2.NORM_MINMAX, dtype=cv2.CV_8U)\n",
    "        image = cv2.medianBlur(image, 5)\n",
    "        _, image = cv2.threshold(image, 205, 255, cv2.THRESH_BINARY)\n",
    "        plt.imshow(image, cmap='gray')\n",
    "        ax.set_title(f\"Image reconstruction {i + 1}\")\n",
    "        ax.get_xaxis().set_visible(False)\n",
    "        ax.get_yaxis().set_visible(False)\n",
    "    \n",
    "    plt.show()\n",
    "    \n",
    "    \n",
    "plot_results(np.array(dataset.noisy_ellipses), \"Oryginalne i zrekonstruowane elipsy\")"
   ],
   "metadata": {
    "collapsed": false,
    "ExecuteTime": {
     "end_time": "2024-11-28T17:29:24.720742Z",
     "start_time": "2024-11-28T17:29:24.238373Z"
    }
   },
   "id": "9ce2f6952ec459de",
   "execution_count": 16
  },
  {
   "cell_type": "code",
   "outputs": [
    {
     "data": {
      "text/plain": "'3.7.0'"
     },
     "execution_count": 10,
     "metadata": {},
     "output_type": "execute_result"
    }
   ],
   "source": [
    "#check keras version\n",
    "keras.__version__"
   ],
   "metadata": {
    "collapsed": false,
    "ExecuteTime": {
     "end_time": "2024-11-28T07:33:26.303418Z",
     "start_time": "2024-11-28T07:33:26.299487Z"
    }
   },
   "id": "37f28449c43df0db",
   "execution_count": 10
  },
  {
   "cell_type": "markdown",
   "source": [
    "# Test"
   ],
   "metadata": {
    "collapsed": false
   },
   "id": "d07347f478c0937"
  },
  {
   "cell_type": "code",
   "outputs": [
    {
     "name": "stdout",
     "output_type": "stream",
     "text": [
      "\u001B[1m1/1\u001B[0m \u001B[32m━━━━━━━━━━━━━━━━━━━━\u001B[0m\u001B[37m\u001B[0m \u001B[1m0s\u001B[0m 116ms/step\n",
      "Image 1: Dice coefficient: 0.9711149110390671)\n",
      "\u001B[1m1/1\u001B[0m \u001B[32m━━━━━━━━━━━━━━━━━━━━\u001B[0m\u001B[37m\u001B[0m \u001B[1m0s\u001B[0m 56ms/step\n",
      "Image 2: Dice coefficient: 0.6834280682078228)\n",
      "\u001B[1m1/1\u001B[0m \u001B[32m━━━━━━━━━━━━━━━━━━━━\u001B[0m\u001B[37m\u001B[0m \u001B[1m0s\u001B[0m 47ms/step\n",
      "Image 3: Dice coefficient: 0.991628523982552)\n",
      "\u001B[1m1/1\u001B[0m \u001B[32m━━━━━━━━━━━━━━━━━━━━\u001B[0m\u001B[37m\u001B[0m \u001B[1m0s\u001B[0m 46ms/step\n",
      "Image 4: Dice coefficient: 0.9942434843752785)\n",
      "\u001B[1m1/1\u001B[0m \u001B[32m━━━━━━━━━━━━━━━━━━━━\u001B[0m\u001B[37m\u001B[0m \u001B[1m0s\u001B[0m 53ms/step\n",
      "Image 5: Dice coefficient: 0.9685931030497998)\n",
      "\u001B[1m1/1\u001B[0m \u001B[32m━━━━━━━━━━━━━━━━━━━━\u001B[0m\u001B[37m\u001B[0m \u001B[1m0s\u001B[0m 50ms/step\n",
      "Image 6: Dice coefficient: 0.9955306280018345)\n",
      "\u001B[1m1/1\u001B[0m \u001B[32m━━━━━━━━━━━━━━━━━━━━\u001B[0m\u001B[37m\u001B[0m \u001B[1m0s\u001B[0m 51ms/step\n",
      "Image 7: Dice coefficient: 0.9953349402014143)\n",
      "\u001B[1m1/1\u001B[0m \u001B[32m━━━━━━━━━━━━━━━━━━━━\u001B[0m\u001B[37m\u001B[0m \u001B[1m0s\u001B[0m 51ms/step\n",
      "Image 8: Dice coefficient: 0.9957164060530863)\n",
      "\u001B[1m1/1\u001B[0m \u001B[32m━━━━━━━━━━━━━━━━━━━━\u001B[0m\u001B[37m\u001B[0m \u001B[1m0s\u001B[0m 48ms/step\n",
      "Image 9: Dice coefficient: 0.7152480992238057)\n",
      "\u001B[1m1/1\u001B[0m \u001B[32m━━━━━━━━━━━━━━━━━━━━\u001B[0m\u001B[37m\u001B[0m \u001B[1m0s\u001B[0m 50ms/step\n",
      "Image 10: Dice coefficient: 0.995323327535624)\n",
      "\u001B[1m1/1\u001B[0m \u001B[32m━━━━━━━━━━━━━━━━━━━━\u001B[0m\u001B[37m\u001B[0m \u001B[1m0s\u001B[0m 50ms/step\n",
      "Image 11: Dice coefficient: 0.9947116041804513)\n",
      "\u001B[1m1/1\u001B[0m \u001B[32m━━━━━━━━━━━━━━━━━━━━\u001B[0m\u001B[37m\u001B[0m \u001B[1m0s\u001B[0m 57ms/step\n",
      "Image 12: Dice coefficient: 0.9934043669925687)\n",
      "\u001B[1m1/1\u001B[0m \u001B[32m━━━━━━━━━━━━━━━━━━━━\u001B[0m\u001B[37m\u001B[0m \u001B[1m0s\u001B[0m 48ms/step\n",
      "Image 13: Dice coefficient: 0.9885904471609528)\n",
      "\u001B[1m1/1\u001B[0m \u001B[32m━━━━━━━━━━━━━━━━━━━━\u001B[0m\u001B[37m\u001B[0m \u001B[1m0s\u001B[0m 52ms/step\n",
      "Image 14: Dice coefficient: 0.9949486434778866)\n",
      "\u001B[1m1/1\u001B[0m \u001B[32m━━━━━━━━━━━━━━━━━━━━\u001B[0m\u001B[37m\u001B[0m \u001B[1m0s\u001B[0m 58ms/step\n",
      "Image 15: Dice coefficient: 0.9948502204242758)\n",
      "\u001B[1m1/1\u001B[0m \u001B[32m━━━━━━━━━━━━━━━━━━━━\u001B[0m\u001B[37m\u001B[0m \u001B[1m0s\u001B[0m 50ms/step\n",
      "Image 16: Dice coefficient: 0.9904171743590233)\n",
      "\u001B[1m1/1\u001B[0m \u001B[32m━━━━━━━━━━━━━━━━━━━━\u001B[0m\u001B[37m\u001B[0m \u001B[1m0s\u001B[0m 58ms/step\n",
      "Image 17: Dice coefficient: 0.9949710582715867)\n",
      "\u001B[1m1/1\u001B[0m \u001B[32m━━━━━━━━━━━━━━━━━━━━\u001B[0m\u001B[37m\u001B[0m \u001B[1m0s\u001B[0m 50ms/step\n",
      "Image 18: Dice coefficient: 0.7016545948507504)\n",
      "\u001B[1m1/1\u001B[0m \u001B[32m━━━━━━━━━━━━━━━━━━━━\u001B[0m\u001B[37m\u001B[0m \u001B[1m0s\u001B[0m 55ms/step\n",
      "Image 19: Dice coefficient: 0.9263827017481371)\n",
      "\u001B[1m1/1\u001B[0m \u001B[32m━━━━━━━━━━━━━━━━━━━━\u001B[0m\u001B[37m\u001B[0m \u001B[1m0s\u001B[0m 55ms/step\n",
      "Image 20: Dice coefficient: 0.9950513249329498)\n",
      "\u001B[1m1/1\u001B[0m \u001B[32m━━━━━━━━━━━━━━━━━━━━\u001B[0m\u001B[37m\u001B[0m \u001B[1m0s\u001B[0m 50ms/step\n",
      "Image 21: Dice coefficient: 0.9951358498666907)\n",
      "\u001B[1m1/1\u001B[0m \u001B[32m━━━━━━━━━━━━━━━━━━━━\u001B[0m\u001B[37m\u001B[0m \u001B[1m0s\u001B[0m 57ms/step\n",
      "Image 22: Dice coefficient: 0.7763231228479676)\n",
      "\u001B[1m1/1\u001B[0m \u001B[32m━━━━━━━━━━━━━━━━━━━━\u001B[0m\u001B[37m\u001B[0m \u001B[1m0s\u001B[0m 49ms/step\n",
      "Image 23: Dice coefficient: 0.9941883982188666)\n",
      "\u001B[1m1/1\u001B[0m \u001B[32m━━━━━━━━━━━━━━━━━━━━\u001B[0m\u001B[37m\u001B[0m \u001B[1m0s\u001B[0m 52ms/step\n",
      "Image 24: Dice coefficient: 0.9954501039999603)\n",
      "\u001B[1m1/1\u001B[0m \u001B[32m━━━━━━━━━━━━━━━━━━━━\u001B[0m\u001B[37m\u001B[0m \u001B[1m0s\u001B[0m 53ms/step\n",
      "Image 25: Dice coefficient: 0.9620214239788009)\n",
      "\u001B[1m1/1\u001B[0m \u001B[32m━━━━━━━━━━━━━━━━━━━━\u001B[0m\u001B[37m\u001B[0m \u001B[1m0s\u001B[0m 47ms/step\n",
      "Image 26: Dice coefficient: 0.5014584533496185)\n",
      "\u001B[1m1/1\u001B[0m \u001B[32m━━━━━━━━━━━━━━━━━━━━\u001B[0m\u001B[37m\u001B[0m \u001B[1m0s\u001B[0m 46ms/step\n",
      "Image 27: Dice coefficient: 0.995101886595863)\n",
      "\u001B[1m1/1\u001B[0m \u001B[32m━━━━━━━━━━━━━━━━━━━━\u001B[0m\u001B[37m\u001B[0m \u001B[1m0s\u001B[0m 52ms/step\n",
      "Image 28: Dice coefficient: 0.9939838467085825)\n",
      "\u001B[1m1/1\u001B[0m \u001B[32m━━━━━━━━━━━━━━━━━━━━\u001B[0m\u001B[37m\u001B[0m \u001B[1m0s\u001B[0m 57ms/step\n",
      "Image 29: Dice coefficient: 0.9864991675495437)\n",
      "\u001B[1m1/1\u001B[0m \u001B[32m━━━━━━━━━━━━━━━━━━━━\u001B[0m\u001B[37m\u001B[0m \u001B[1m0s\u001B[0m 55ms/step\n",
      "Image 30: Dice coefficient: 0.5559459089601847)\n",
      "\u001B[1m1/1\u001B[0m \u001B[32m━━━━━━━━━━━━━━━━━━━━\u001B[0m\u001B[37m\u001B[0m \u001B[1m0s\u001B[0m 59ms/step\n",
      "Image 31: Dice coefficient: 0.9947818183768442)\n",
      "\u001B[1m1/1\u001B[0m \u001B[32m━━━━━━━━━━━━━━━━━━━━\u001B[0m\u001B[37m\u001B[0m \u001B[1m0s\u001B[0m 54ms/step\n",
      "Image 32: Dice coefficient: 0.8567350454310181)\n",
      "\u001B[1m1/1\u001B[0m \u001B[32m━━━━━━━━━━━━━━━━━━━━\u001B[0m\u001B[37m\u001B[0m \u001B[1m0s\u001B[0m 52ms/step\n",
      "Image 33: Dice coefficient: 0.9956924873306099)\n",
      "\u001B[1m1/1\u001B[0m \u001B[32m━━━━━━━━━━━━━━━━━━━━\u001B[0m\u001B[37m\u001B[0m \u001B[1m0s\u001B[0m 54ms/step\n",
      "Image 34: Dice coefficient: 0.47015753097499646)\n",
      "\u001B[1m1/1\u001B[0m \u001B[32m━━━━━━━━━━━━━━━━━━━━\u001B[0m\u001B[37m\u001B[0m \u001B[1m0s\u001B[0m 54ms/step\n",
      "Image 35: Dice coefficient: 0.9922800721512446)\n",
      "\u001B[1m1/1\u001B[0m \u001B[32m━━━━━━━━━━━━━━━━━━━━\u001B[0m\u001B[37m\u001B[0m \u001B[1m0s\u001B[0m 52ms/step\n",
      "Image 36: Dice coefficient: 0.9152544088484015)\n",
      "\u001B[1m1/1\u001B[0m \u001B[32m━━━━━━━━━━━━━━━━━━━━\u001B[0m\u001B[37m\u001B[0m \u001B[1m0s\u001B[0m 54ms/step\n",
      "Image 37: Dice coefficient: 0.9931772075361481)\n",
      "\u001B[1m1/1\u001B[0m \u001B[32m━━━━━━━━━━━━━━━━━━━━\u001B[0m\u001B[37m\u001B[0m \u001B[1m0s\u001B[0m 55ms/step\n",
      "Image 38: Dice coefficient: 0.9921881829572584)\n",
      "\u001B[1m1/1\u001B[0m \u001B[32m━━━━━━━━━━━━━━━━━━━━\u001B[0m\u001B[37m\u001B[0m \u001B[1m0s\u001B[0m 49ms/step\n",
      "Image 39: Dice coefficient: 0.5489321459640399)\n",
      "\u001B[1m1/1\u001B[0m \u001B[32m━━━━━━━━━━━━━━━━━━━━\u001B[0m\u001B[37m\u001B[0m \u001B[1m0s\u001B[0m 48ms/step\n",
      "Image 40: Dice coefficient: 0.9954753550114174)\n",
      "\u001B[1m1/1\u001B[0m \u001B[32m━━━━━━━━━━━━━━━━━━━━\u001B[0m\u001B[37m\u001B[0m \u001B[1m0s\u001B[0m 50ms/step\n",
      "Image 41: Dice coefficient: 0.9958243408129586)\n",
      "\u001B[1m1/1\u001B[0m \u001B[32m━━━━━━━━━━━━━━━━━━━━\u001B[0m\u001B[37m\u001B[0m \u001B[1m0s\u001B[0m 53ms/step\n",
      "Image 42: Dice coefficient: 0.9590841340961282)\n",
      "\u001B[1m1/1\u001B[0m \u001B[32m━━━━━━━━━━━━━━━━━━━━\u001B[0m\u001B[37m\u001B[0m \u001B[1m0s\u001B[0m 53ms/step\n",
      "Image 43: Dice coefficient: 0.6878958479943622)\n",
      "\u001B[1m1/1\u001B[0m \u001B[32m━━━━━━━━━━━━━━━━━━━━\u001B[0m\u001B[37m\u001B[0m \u001B[1m0s\u001B[0m 49ms/step\n",
      "Image 44: Dice coefficient: 0.9949605011149479)\n",
      "\u001B[1m1/1\u001B[0m \u001B[32m━━━━━━━━━━━━━━━━━━━━\u001B[0m\u001B[37m\u001B[0m \u001B[1m0s\u001B[0m 105ms/step\n",
      "Image 45: Dice coefficient: 0.9955197160560879)\n",
      "\u001B[1m1/1\u001B[0m \u001B[32m━━━━━━━━━━━━━━━━━━━━\u001B[0m\u001B[37m\u001B[0m \u001B[1m0s\u001B[0m 101ms/step\n",
      "Image 46: Dice coefficient: 0.8788716591445188)\n",
      "\u001B[1m1/1\u001B[0m \u001B[32m━━━━━━━━━━━━━━━━━━━━\u001B[0m\u001B[37m\u001B[0m \u001B[1m0s\u001B[0m 101ms/step\n",
      "Image 47: Dice coefficient: 0.9941090283648912)\n",
      "\u001B[1m1/1\u001B[0m \u001B[32m━━━━━━━━━━━━━━━━━━━━\u001B[0m\u001B[37m\u001B[0m \u001B[1m0s\u001B[0m 97ms/step\n",
      "Image 48: Dice coefficient: 0.9946243845055275)\n",
      "\u001B[1m1/1\u001B[0m \u001B[32m━━━━━━━━━━━━━━━━━━━━\u001B[0m\u001B[37m\u001B[0m \u001B[1m0s\u001B[0m 89ms/step\n",
      "Image 49: Dice coefficient: 0.9937160833816574)\n",
      "\u001B[1m1/1\u001B[0m \u001B[32m━━━━━━━━━━━━━━━━━━━━\u001B[0m\u001B[37m\u001B[0m \u001B[1m0s\u001B[0m 80ms/step\n",
      "Image 50: Dice coefficient: 0.9955144826931425)\n",
      "\u001B[1m1/1\u001B[0m \u001B[32m━━━━━━━━━━━━━━━━━━━━\u001B[0m\u001B[37m\u001B[0m \u001B[1m0s\u001B[0m 93ms/step\n",
      "Image 51: Dice coefficient: 0.9884516627455243)\n",
      "\u001B[1m1/1\u001B[0m \u001B[32m━━━━━━━━━━━━━━━━━━━━\u001B[0m\u001B[37m\u001B[0m \u001B[1m0s\u001B[0m 99ms/step\n",
      "Image 52: Dice coefficient: 0.9940043087234909)\n",
      "\u001B[1m1/1\u001B[0m \u001B[32m━━━━━━━━━━━━━━━━━━━━\u001B[0m\u001B[37m\u001B[0m \u001B[1m0s\u001B[0m 105ms/step\n",
      "Image 53: Dice coefficient: 0.9932459285925339)\n",
      "\u001B[1m1/1\u001B[0m \u001B[32m━━━━━━━━━━━━━━━━━━━━\u001B[0m\u001B[37m\u001B[0m \u001B[1m0s\u001B[0m 88ms/step\n",
      "Image 54: Dice coefficient: 0.75445122844407)\n",
      "\u001B[1m1/1\u001B[0m \u001B[32m━━━━━━━━━━━━━━━━━━━━\u001B[0m\u001B[37m\u001B[0m \u001B[1m0s\u001B[0m 94ms/step\n",
      "Image 55: Dice coefficient: 0.9860908980169889)\n",
      "\u001B[1m1/1\u001B[0m \u001B[32m━━━━━━━━━━━━━━━━━━━━\u001B[0m\u001B[37m\u001B[0m \u001B[1m0s\u001B[0m 86ms/step\n",
      "Image 56: Dice coefficient: 0.9947251602983846)\n",
      "\u001B[1m1/1\u001B[0m \u001B[32m━━━━━━━━━━━━━━━━━━━━\u001B[0m\u001B[37m\u001B[0m \u001B[1m0s\u001B[0m 84ms/step\n",
      "Image 57: Dice coefficient: 0.5298277227424208)\n",
      "\u001B[1m1/1\u001B[0m \u001B[32m━━━━━━━━━━━━━━━━━━━━\u001B[0m\u001B[37m\u001B[0m \u001B[1m0s\u001B[0m 89ms/step\n",
      "Image 58: Dice coefficient: 0.9940075168436553)\n",
      "\u001B[1m1/1\u001B[0m \u001B[32m━━━━━━━━━━━━━━━━━━━━\u001B[0m\u001B[37m\u001B[0m \u001B[1m0s\u001B[0m 92ms/step\n",
      "Image 59: Dice coefficient: 0.9908048626491852)\n",
      "\u001B[1m1/1\u001B[0m \u001B[32m━━━━━━━━━━━━━━━━━━━━\u001B[0m\u001B[37m\u001B[0m \u001B[1m0s\u001B[0m 90ms/step\n",
      "Image 60: Dice coefficient: 0.8679864741704458)\n",
      "\u001B[1m1/1\u001B[0m \u001B[32m━━━━━━━━━━━━━━━━━━━━\u001B[0m\u001B[37m\u001B[0m \u001B[1m0s\u001B[0m 86ms/step\n",
      "Image 61: Dice coefficient: 0.9948508605920088)\n",
      "\u001B[1m1/1\u001B[0m \u001B[32m━━━━━━━━━━━━━━━━━━━━\u001B[0m\u001B[37m\u001B[0m \u001B[1m0s\u001B[0m 86ms/step\n",
      "Image 62: Dice coefficient: 0.5904168235381152)\n",
      "\u001B[1m1/1\u001B[0m \u001B[32m━━━━━━━━━━━━━━━━━━━━\u001B[0m\u001B[37m\u001B[0m \u001B[1m0s\u001B[0m 89ms/step\n",
      "Image 63: Dice coefficient: 0.9894339654763948)\n",
      "\u001B[1m1/1\u001B[0m \u001B[32m━━━━━━━━━━━━━━━━━━━━\u001B[0m\u001B[37m\u001B[0m \u001B[1m0s\u001B[0m 94ms/step\n",
      "Image 64: Dice coefficient: 0.9959105188718443)\n",
      "\u001B[1m1/1\u001B[0m \u001B[32m━━━━━━━━━━━━━━━━━━━━\u001B[0m\u001B[37m\u001B[0m \u001B[1m0s\u001B[0m 104ms/step\n",
      "Image 65: Dice coefficient: 0.7882880250578463)\n",
      "\u001B[1m1/1\u001B[0m \u001B[32m━━━━━━━━━━━━━━━━━━━━\u001B[0m\u001B[37m\u001B[0m \u001B[1m0s\u001B[0m 86ms/step\n",
      "Image 66: Dice coefficient: 0.9950656705423438)\n",
      "\u001B[1m1/1\u001B[0m \u001B[32m━━━━━━━━━━━━━━━━━━━━\u001B[0m\u001B[37m\u001B[0m \u001B[1m0s\u001B[0m 87ms/step\n",
      "Image 67: Dice coefficient: 0.9901584511131434)\n",
      "\u001B[1m1/1\u001B[0m \u001B[32m━━━━━━━━━━━━━━━━━━━━\u001B[0m\u001B[37m\u001B[0m \u001B[1m0s\u001B[0m 85ms/step\n",
      "Image 68: Dice coefficient: 0.9931791325763052)\n",
      "\u001B[1m1/1\u001B[0m \u001B[32m━━━━━━━━━━━━━━━━━━━━\u001B[0m\u001B[37m\u001B[0m \u001B[1m0s\u001B[0m 96ms/step\n",
      "Image 69: Dice coefficient: 0.7767144948489515)\n",
      "\u001B[1m1/1\u001B[0m \u001B[32m━━━━━━━━━━━━━━━━━━━━\u001B[0m\u001B[37m\u001B[0m \u001B[1m0s\u001B[0m 97ms/step\n",
      "Image 70: Dice coefficient: 0.7164598960422207)\n",
      "\u001B[1m1/1\u001B[0m \u001B[32m━━━━━━━━━━━━━━━━━━━━\u001B[0m\u001B[37m\u001B[0m \u001B[1m0s\u001B[0m 96ms/step\n",
      "Image 71: Dice coefficient: 0.9902407307793203)\n",
      "\u001B[1m1/1\u001B[0m \u001B[32m━━━━━━━━━━━━━━━━━━━━\u001B[0m\u001B[37m\u001B[0m \u001B[1m0s\u001B[0m 96ms/step\n",
      "Image 72: Dice coefficient: 0.9122214883428267)\n",
      "\u001B[1m1/1\u001B[0m \u001B[32m━━━━━━━━━━━━━━━━━━━━\u001B[0m\u001B[37m\u001B[0m \u001B[1m0s\u001B[0m 96ms/step\n",
      "Image 73: Dice coefficient: 0.9957706564231016)\n",
      "\u001B[1m1/1\u001B[0m \u001B[32m━━━━━━━━━━━━━━━━━━━━\u001B[0m\u001B[37m\u001B[0m \u001B[1m0s\u001B[0m 88ms/step\n",
      "Image 74: Dice coefficient: 0.9947868735073172)\n",
      "\u001B[1m1/1\u001B[0m \u001B[32m━━━━━━━━━━━━━━━━━━━━\u001B[0m\u001B[37m\u001B[0m \u001B[1m0s\u001B[0m 94ms/step\n",
      "Image 75: Dice coefficient: 0.9929831285947941)\n",
      "\u001B[1m1/1\u001B[0m \u001B[32m━━━━━━━━━━━━━━━━━━━━\u001B[0m\u001B[37m\u001B[0m \u001B[1m0s\u001B[0m 92ms/step\n",
      "Image 76: Dice coefficient: 0.9943912290569751)\n",
      "\u001B[1m1/1\u001B[0m \u001B[32m━━━━━━━━━━━━━━━━━━━━\u001B[0m\u001B[37m\u001B[0m \u001B[1m0s\u001B[0m 94ms/step\n",
      "Image 77: Dice coefficient: 0.9915686194372001)\n",
      "\u001B[1m1/1\u001B[0m \u001B[32m━━━━━━━━━━━━━━━━━━━━\u001B[0m\u001B[37m\u001B[0m \u001B[1m0s\u001B[0m 89ms/step\n",
      "Image 78: Dice coefficient: 0.9927334614550773)\n",
      "\u001B[1m1/1\u001B[0m \u001B[32m━━━━━━━━━━━━━━━━━━━━\u001B[0m\u001B[37m\u001B[0m \u001B[1m0s\u001B[0m 97ms/step\n",
      "Image 79: Dice coefficient: 0.9953855822729781)\n",
      "\u001B[1m1/1\u001B[0m \u001B[32m━━━━━━━━━━━━━━━━━━━━\u001B[0m\u001B[37m\u001B[0m \u001B[1m0s\u001B[0m 94ms/step\n",
      "Image 80: Dice coefficient: 0.9922355565882524)\n",
      "\u001B[1m1/1\u001B[0m \u001B[32m━━━━━━━━━━━━━━━━━━━━\u001B[0m\u001B[37m\u001B[0m \u001B[1m0s\u001B[0m 95ms/step\n",
      "Image 81: Dice coefficient: 0.9930507246240038)\n",
      "\u001B[1m1/1\u001B[0m \u001B[32m━━━━━━━━━━━━━━━━━━━━\u001B[0m\u001B[37m\u001B[0m \u001B[1m0s\u001B[0m 86ms/step\n",
      "Image 82: Dice coefficient: 0.9950354366768283)\n",
      "\u001B[1m1/1\u001B[0m \u001B[32m━━━━━━━━━━━━━━━━━━━━\u001B[0m\u001B[37m\u001B[0m \u001B[1m0s\u001B[0m 94ms/step\n",
      "Image 83: Dice coefficient: 0.9954241697807833)\n",
      "\u001B[1m1/1\u001B[0m \u001B[32m━━━━━━━━━━━━━━━━━━━━\u001B[0m\u001B[37m\u001B[0m \u001B[1m0s\u001B[0m 92ms/step\n",
      "Image 84: Dice coefficient: 0.7919596782893826)\n",
      "\u001B[1m1/1\u001B[0m \u001B[32m━━━━━━━━━━━━━━━━━━━━\u001B[0m\u001B[37m\u001B[0m \u001B[1m0s\u001B[0m 89ms/step\n",
      "Image 85: Dice coefficient: 0.994815552898926)\n",
      "\u001B[1m1/1\u001B[0m \u001B[32m━━━━━━━━━━━━━━━━━━━━\u001B[0m\u001B[37m\u001B[0m \u001B[1m0s\u001B[0m 87ms/step\n",
      "Image 86: Dice coefficient: 0.9925252566566991)\n",
      "\u001B[1m1/1\u001B[0m \u001B[32m━━━━━━━━━━━━━━━━━━━━\u001B[0m\u001B[37m\u001B[0m \u001B[1m0s\u001B[0m 92ms/step\n",
      "Image 87: Dice coefficient: 0.9948984514869423)\n",
      "\u001B[1m1/1\u001B[0m \u001B[32m━━━━━━━━━━━━━━━━━━━━\u001B[0m\u001B[37m\u001B[0m \u001B[1m0s\u001B[0m 107ms/step\n",
      "Image 88: Dice coefficient: 0.46942617754104915)\n",
      "\u001B[1m1/1\u001B[0m \u001B[32m━━━━━━━━━━━━━━━━━━━━\u001B[0m\u001B[37m\u001B[0m \u001B[1m0s\u001B[0m 100ms/step\n",
      "Image 89: Dice coefficient: 0.9949654719229787)\n",
      "\u001B[1m1/1\u001B[0m \u001B[32m━━━━━━━━━━━━━━━━━━━━\u001B[0m\u001B[37m\u001B[0m \u001B[1m0s\u001B[0m 101ms/step\n",
      "Image 90: Dice coefficient: 0.9947210848302922)\n",
      "\u001B[1m1/1\u001B[0m \u001B[32m━━━━━━━━━━━━━━━━━━━━\u001B[0m\u001B[37m\u001B[0m \u001B[1m0s\u001B[0m 99ms/step\n",
      "Image 91: Dice coefficient: 0.9678434236447249)\n",
      "\u001B[1m1/1\u001B[0m \u001B[32m━━━━━━━━━━━━━━━━━━━━\u001B[0m\u001B[37m\u001B[0m \u001B[1m0s\u001B[0m 87ms/step\n",
      "Image 92: Dice coefficient: 0.8776901029414144)\n",
      "\u001B[1m1/1\u001B[0m \u001B[32m━━━━━━━━━━━━━━━━━━━━\u001B[0m\u001B[37m\u001B[0m \u001B[1m0s\u001B[0m 95ms/step\n",
      "Image 93: Dice coefficient: 0.9888772161127563)\n",
      "\u001B[1m1/1\u001B[0m \u001B[32m━━━━━━━━━━━━━━━━━━━━\u001B[0m\u001B[37m\u001B[0m \u001B[1m0s\u001B[0m 106ms/step\n",
      "Image 94: Dice coefficient: 0.9957560624982618)\n",
      "\u001B[1m1/1\u001B[0m \u001B[32m━━━━━━━━━━━━━━━━━━━━\u001B[0m\u001B[37m\u001B[0m \u001B[1m0s\u001B[0m 100ms/step\n",
      "Image 95: Dice coefficient: 0.988940509033235)\n",
      "\u001B[1m1/1\u001B[0m \u001B[32m━━━━━━━━━━━━━━━━━━━━\u001B[0m\u001B[37m\u001B[0m \u001B[1m0s\u001B[0m 98ms/step\n",
      "Image 96: Dice coefficient: 0.9050954351546213)\n",
      "\u001B[1m1/1\u001B[0m \u001B[32m━━━━━━━━━━━━━━━━━━━━\u001B[0m\u001B[37m\u001B[0m \u001B[1m0s\u001B[0m 94ms/step\n",
      "Image 97: Dice coefficient: 0.9944618590560591)\n",
      "\u001B[1m1/1\u001B[0m \u001B[32m━━━━━━━━━━━━━━━━━━━━\u001B[0m\u001B[37m\u001B[0m \u001B[1m0s\u001B[0m 99ms/step\n",
      "Image 98: Dice coefficient: 0.6248167690213577)\n",
      "\u001B[1m1/1\u001B[0m \u001B[32m━━━━━━━━━━━━━━━━━━━━\u001B[0m\u001B[37m\u001B[0m \u001B[1m0s\u001B[0m 93ms/step\n",
      "Image 99: Dice coefficient: 0.9955054440145717)\n",
      "\u001B[1m1/1\u001B[0m \u001B[32m━━━━━━━━━━━━━━━━━━━━\u001B[0m\u001B[37m\u001B[0m \u001B[1m0s\u001B[0m 104ms/step\n",
      "Image 100: Dice coefficient: 0.9954025553253896)\n",
      "Average Dice coefficient: 0.9220964853274513\n"
     ]
    }
   ],
   "source": [
    "dice_coefficients = []\n",
    "hausdorff_distances = []\n",
    "path = \"test\"\n",
    "# Generate 100 ellipses and save them to BMP files\n",
    "# User can skip this step and load own images\n",
    "test = EllipseDataset(100)\n",
    "test.save_to_bmp(path)\n",
    "\n",
    "autoencoder_ = keras.models.load_model(\"model_at_epoch_39.keras\", custom_objects={\"Autoencoder\": Autoencoder})\n",
    "autoencoder_.compile(optimizer=\"adam\", loss=\"mse\")\n",
    "\n",
    "# wait for the ellipses to save \n",
    "import time\n",
    "time.sleep(5)\n",
    "#reading images\n",
    "for i in range(100):\n",
    "    ellipse = cv2.imread(f\"{path}/ellipses/ellipse_{i}.bmp\", cv2.IMREAD_GRAYSCALE)\n",
    "    noisy_ellipse = cv2.imread(f\"{path}/noisy_ellipses/noisy_ellipse_{i}.bmp\", cv2.IMREAD_GRAYSCALE)\n",
    "    \n",
    "    reconstruction = autoencoder_.predict(noisy_ellipse.reshape(1, 256, 256, 1)).reshape(256, 256)\n",
    "    reconstruction = cv2.normalize(reconstruction, None, 0, 255, cv2.NORM_MINMAX, dtype=cv2.CV_8U)\n",
    "    reconstruction = cv2.medianBlur(reconstruction, 5)\n",
    "    _, reconstruction = cv2.threshold(reconstruction, 205, 255, cv2.THRESH_BINARY)\n",
    "    \n",
    "    dice_coefficient = evaluate_segmentation(reconstruction, ellipse)\n",
    "    \n",
    "    dice_coefficients.append(dice_coefficient)\n",
    "    \n",
    "    print(f\"Image {i + 1}: Dice coefficient: {dice_coefficient})\")\n",
    "    \n",
    "print(f\"Average Dice coefficient: {np.mean(dice_coefficients)}\")"
   ],
   "metadata": {
    "collapsed": false,
    "ExecuteTime": {
     "end_time": "2024-11-28T17:29:46.801245Z",
     "start_time": "2024-11-28T17:29:30.812508Z"
    }
   },
   "id": "f195ba7edf7f7d38",
   "execution_count": 17
  },
  {
   "cell_type": "markdown",
   "source": [
    "# Test results\n",
    "Average Dice coefficient for 100 random samples: 0.9316722600115962"
   ],
   "metadata": {
    "collapsed": false
   },
   "id": "cb57dcd68ddddeb1"
  }
 ],
 "metadata": {
  "kernelspec": {
   "display_name": "Python 3",
   "language": "python",
   "name": "python3"
  },
  "language_info": {
   "codemirror_mode": {
    "name": "ipython",
    "version": 2
   },
   "file_extension": ".py",
   "mimetype": "text/x-python",
   "name": "python",
   "nbconvert_exporter": "python",
   "pygments_lexer": "ipython2",
   "version": "2.7.6"
  }
 },
 "nbformat": 4,
 "nbformat_minor": 5
}
